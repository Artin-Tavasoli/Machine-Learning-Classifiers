{
 "cells": [
  {
   "cell_type": "markdown",
   "metadata": {},
   "source": [
    "<div align=\"center\">\n",
    "\n",
    "# 🧠 Machine Learning Models\n",
    "\n",
    "###  **Artin Tavasoli** 👋🏻 \n",
    "📘 **Student ID:** `810102543`\n",
    "\n",
    "</div>\n"
   ]
  },
  {
   "cell_type": "markdown",
   "metadata": {},
   "source": [
    "<div align=\"left\">\n",
    "\n",
    "#### 📚 Import Needed Libraries\n",
    "\n",
    "</div>\n"
   ]
  },
  {
   "cell_type": "code",
   "execution_count": 361,
   "metadata": {},
   "outputs": [],
   "source": [
    "import pandas as pd\n",
    "import seaborn as sns\n",
    "import matplotlib.pyplot as plt\n",
    "import numpy as np\n",
    "from sklearn.preprocessing import LabelEncoder"
   ]
  },
  {
   "cell_type": "markdown",
   "metadata": {},
   "source": [
    "<div align=\"left\">\n",
    "\n",
    "#### ⏳ Load Dataset\n",
    "\n",
    "</div>\n"
   ]
  },
  {
   "cell_type": "code",
   "execution_count": 362,
   "metadata": {},
   "outputs": [],
   "source": [
    "grades_df = pd.read_csv('AI-Course-Grades.csv')"
   ]
  },
  {
   "cell_type": "markdown",
   "metadata": {},
   "source": [
    "<div align=\"left\">\n",
    "\n",
    "# 📤 Data Preprocessing\n",
    "\n",
    "</div>\n"
   ]
  },
  {
   "cell_type": "markdown",
   "metadata": {},
   "source": [
    "<div align=\"left\">\n",
    "\n",
    "### 🧩 Handling Missing Values\n",
    "\n",
    "#### 👻 Handle Absent Data\n",
    "\n",
    "</div>\n"
   ]
  },
  {
   "cell_type": "code",
   "execution_count": 363,
   "metadata": {},
   "outputs": [
    {
     "name": "stdout",
     "output_type": "stream",
     "text": [
      "university           False\n",
      "sex                  False\n",
      "age                  False\n",
      "address              False\n",
      "motherEducation      False\n",
      "fatherEducation      False\n",
      "motherJob            False\n",
      "fatherJob            False\n",
      "reason               False\n",
      "travelTime           False\n",
      "studyTime            False\n",
      "failures             False\n",
      "universitySupport    False\n",
      "paid                 False\n",
      "higher               False\n",
      "internet             False\n",
      "romantic             False\n",
      "freeTime             False\n",
      "goOut                False\n",
      "Dalc                 False\n",
      "Walc                 False\n",
      "absences             False\n",
      "EPSGrade             False\n",
      "DSGrade              False\n",
      "finalGrade           False\n",
      "dtype: bool\n"
     ]
    }
   ],
   "source": [
    "print(grades_df.isnull().any())"
   ]
  },
  {
   "cell_type": "markdown",
   "metadata": {},
   "source": [
    "<div align=\"left\">\n",
    "\n",
    "#### ❗ Handle Unassigned Values\n",
    "There are several strategies for dealing with missing data, each suited to different circumstances:\n",
    "\n",
    "1. Remove Rows with Missing Values: This involves discarding data points (rows) that have missing entries. While simple, it's often impractical if many data points have missing features or if those points contain otherwise valuable information.\n",
    "\n",
    "2. Remove Columns with Missing Values: This approach drops the entire feature (column) when only a small portion of the dataset contains values for it. It's useful when the missing data renders the feature unreliable or irrelevant.\n",
    "\n",
    "3. Impute with Statistical Measures: Missing values can be filled using statistical metrics such as the mean, median, or mode of the corresponding column. This method is simple and maintains the dataset's size, though it may introduce bias.\n",
    "\n",
    "4. Predict Missing Values Using Machine Learning: A supervised learning model, such as a classification or k-nearest neighbors (KNN) model, can predict missing values using patterns in the existing data. This method is more sophisticated and potentially more accurate.\n",
    "\n",
    "5. Manual Imputation Based on Domain Knowledge: In some cases, domain experts can analyze the data and assign missing values based on contextual understanding or existing labels.\n",
    "\n",
    "\n",
    "</div>\n"
   ]
  },
  {
   "cell_type": "code",
   "execution_count": 364,
   "metadata": {},
   "outputs": [
    {
     "name": "stdout",
     "output_type": "stream",
     "text": [
      "number of unassigned values in 397 data points\n",
      "university             0\n",
      "sex                    0\n",
      "age                    0\n",
      "address                0\n",
      "motherEducation        0\n",
      "fatherEducation        0\n",
      "motherJob            142\n",
      "fatherJob            217\n",
      "reason                37\n",
      "travelTime             0\n",
      "studyTime              0\n",
      "failures               0\n",
      "universitySupport      0\n",
      "paid                   0\n",
      "higher                 0\n",
      "internet               0\n",
      "romantic               0\n",
      "freeTime               0\n",
      "goOut                  0\n",
      "Dalc                   0\n",
      "Walc                   0\n",
      "absences               0\n",
      "EPSGrade               0\n",
      "DSGrade                0\n",
      "finalGrade             0\n",
      "dtype: int64\n"
     ]
    }
   ],
   "source": [
    "print('number of unassigned values in 'f\"{grades_df.shape[0]} data points\")\n",
    "\n",
    "print((grades_df == 'other').sum())"
   ]
  },
  {
   "cell_type": "markdown",
   "metadata": {},
   "source": [
    "\n",
    "<span style=\"font-size:24px; font-weight:bold; color:pink;\">About 36% of motherJob and 55% of fatherJob values' are missing, removing these features is the best action here</span>\n"
   ]
  },
  {
   "cell_type": "code",
   "execution_count": 365,
   "metadata": {},
   "outputs": [
    {
     "name": "stdout",
     "output_type": "stream",
     "text": [
      "university            0\n",
      "sex                   0\n",
      "age                   0\n",
      "address               0\n",
      "motherEducation       0\n",
      "fatherEducation       0\n",
      "reason               37\n",
      "travelTime            0\n",
      "studyTime             0\n",
      "failures              0\n",
      "universitySupport     0\n",
      "paid                  0\n",
      "higher                0\n",
      "internet              0\n",
      "romantic              0\n",
      "freeTime              0\n",
      "goOut                 0\n",
      "Dalc                  0\n",
      "Walc                  0\n",
      "absences              0\n",
      "EPSGrade              0\n",
      "DSGrade               0\n",
      "finalGrade            0\n",
      "dtype: int64\n"
     ]
    }
   ],
   "source": [
    "del grades_df['motherJob']\n",
    "del grades_df['fatherJob']\n",
    "print((grades_df == 'other').sum())"
   ]
  },
  {
   "cell_type": "markdown",
   "metadata": {},
   "source": [
    "<span style=\"font-size:24px; font-weight:bold; color:pink;\">assign values to \"reason\" feature: </span>\n",
    "\n",
    "if travel time is less than 15 minutes of travel time then the reason probably was how close this university is to it's home\n",
    "\n",
    "break these datapoints into three groups based on their universities (CM or PR) and create 2 panda dataframe for each one\n",
    "\n",
    "    for the remaining unassigned reasons in each newly created dataframe:\n",
    "\n",
    "        if mod reason column was reputation (the most seen reason was reputation)\n",
    "\n",
    "            put reason['other'] to 'reputation' because  this means the university was a very reputable one and others probably chose the same reason\n",
    "\n",
    "        else\n",
    "        \n",
    "            put reason['other'] = course\n"
   ]
  },
  {
   "cell_type": "code",
   "execution_count": 366,
   "metadata": {},
   "outputs": [
    {
     "name": "stdout",
     "output_type": "stream",
     "text": [
      "CM head:\n",
      "     university  travelTime  reason\n",
      "349         CM           2  course\n",
      "350         CM           3    home\n",
      "351         CM           2  course\n",
      "352         CM           1  course\n",
      "353         CM           3    home \n",
      "\n",
      "PR head:\n",
      "   university  travelTime  reason\n",
      "0         PR           2  course\n",
      "1         PR           1  course\n",
      "2         PR           1    home\n",
      "3         PR           1    home\n",
      "4         PR           1    home\n"
     ]
    }
   ],
   "source": [
    "def assign_reasons(df):\n",
    "    df['original_reason'] = df['reason']\n",
    "\n",
    "    mask = df['reason'] == 'other'\n",
    "    df.loc[mask, 'reason'] = np.where(\n",
    "    df.loc[mask, 'travelTime'] == 1,\n",
    "    'home',\n",
    "    np.where(\n",
    "        df.loc[mask, 'original_reason'] == 'reputation',\n",
    "        'reputation',\n",
    "        'course'\n",
    "    )\n",
    "    )\n",
    "\n",
    "\n",
    "    mask = df['reason'] == 'other'\n",
    "    reason_counts = df['reason'].value_counts()\n",
    "    if reason_counts.get('reputation') > reason_counts.get('course'):\n",
    "        df.loc[mask, 'reason'] = 'reputation'\n",
    "    else:\n",
    "        df.loc[mask, 'reason'] = 'course'\n",
    "    df.drop(columns='original_reason', inplace=True)\n",
    "    return df\n",
    "\n",
    "df_cm = grades_df[grades_df['university'] == 'CM'].copy()\n",
    "df_pr = grades_df[grades_df['university'] == 'PR'].copy()\n",
    "df_cm = assign_reasons(df_cm)\n",
    "df_pr = assign_reasons(df_pr)\n",
    "\n",
    "print(\"CM head:\\n\", df_cm[['university','travelTime','reason']].head(), \"\\n\")\n",
    "print(\"PR head:\\n\", df_pr[['university','travelTime','reason']].head())\n",
    "df_cm.to_csv('df_cm.csv', index=False)\n",
    "grades_df = pd.concat([df_pr, df_cm], ignore_index=True)"
   ]
  },
  {
   "cell_type": "markdown",
   "metadata": {},
   "source": [
    "clean data\n",
    "abscenses can be from 0 to 93, classify them into 4 groups:\n",
    "\n",
    "0 : 0-2\n",
    "\n",
    "1 : 3-5\n",
    "\n",
    "2 : 6-9\n",
    "\n",
    "3 : 10 or more\n",
    "\n",
    "EPSGrade,DSGrade,finalGrade classify them into 4 groups:\n",
    "\n",
    "0 : 10 or lower\n",
    "\n",
    "1 : 10-14\n",
    "\n",
    "2 : 14-17\n",
    "\n",
    "3 : 17 or more\n"
   ]
  },
  {
   "cell_type": "code",
   "execution_count": 367,
   "metadata": {},
   "outputs": [
    {
     "name": "stdout",
     "output_type": "stream",
     "text": [
      "  university sex  age address  motherEducation  fatherEducation  reason  \\\n",
      "0         PR   F   18       U                4                4  course   \n",
      "1         PR   F   17       U                1                1  course   \n",
      "2         PR   F   15       U                1                1    home   \n",
      "3         PR   F   15       U                4                2    home   \n",
      "4         PR   F   16       U                3                3    home   \n",
      "\n",
      "   travelTime  studyTime  failures  ... internet romantic freeTime goOut Dalc  \\\n",
      "0           2          2         0  ...       no       no        3     4    1   \n",
      "1           1          2         0  ...      yes       no        3     3    1   \n",
      "2           1          2         3  ...      yes       no        3     2    2   \n",
      "3           1          3         0  ...      yes      yes        2     2    1   \n",
      "4           1          2         0  ...       no       no        3     2    1   \n",
      "\n",
      "   Walc  absences  EPSGrade  DSGrade  finalGrade  \n",
      "0     1         2         0        0           0  \n",
      "1     1         1         0        0           0  \n",
      "2     3         3         0        0           0  \n",
      "3     1         0         2        1           2  \n",
      "4     2         1         0        0           0  \n",
      "\n",
      "[5 rows x 23 columns]\n"
     ]
    }
   ],
   "source": [
    "def classify_absences(number_of_absences):\n",
    "    if number_of_absences <= 2:\n",
    "        return 0\n",
    "    elif number_of_absences <= 5:\n",
    "        return 1\n",
    "    elif number_of_absences <= 9:\n",
    "        return 2\n",
    "    else:\n",
    "        return 3\n",
    "\n",
    "def classify_grade(grade):\n",
    "    if grade <= 10:\n",
    "        return 0\n",
    "    elif grade <= 14:\n",
    "        return 1\n",
    "    elif grade <= 17:\n",
    "        return 2\n",
    "    else:\n",
    "        return 3\n",
    "\n",
    "grades_df['absences'] = grades_df['absences'].apply(classify_absences)\n",
    "grades_df['EPSGrade'] = grades_df['EPSGrade'].apply(classify_grade)\n",
    "grades_df['DSGrade'] = grades_df['DSGrade'].apply(classify_grade)\n",
    "grades_df['finalGrade'] = grades_df['finalGrade'].apply(classify_grade)\n",
    "\n",
    "print(grades_df.head())"
   ]
  },
  {
   "cell_type": "markdown",
   "metadata": {},
   "source": [
    "use label encoding"
   ]
  },
  {
   "cell_type": "code",
   "execution_count": 368,
   "metadata": {},
   "outputs": [
    {
     "name": "stdout",
     "output_type": "stream",
     "text": [
      "   university  sex  age  address  motherEducation  fatherEducation  reason  \\\n",
      "0           1    0   18        1                4                4       0   \n",
      "1           1    0   17        1                1                1       0   \n",
      "2           1    0   15        1                1                1       1   \n",
      "3           1    0   15        1                4                2       1   \n",
      "4           1    0   16        1                3                3       1   \n",
      "\n",
      "   travelTime  studyTime  failures  ...  internet  romantic  freeTime  goOut  \\\n",
      "0           2          2         0  ...         0         0         3      4   \n",
      "1           1          2         0  ...         1         0         3      3   \n",
      "2           1          2         3  ...         1         0         3      2   \n",
      "3           1          3         0  ...         1         1         2      2   \n",
      "4           1          2         0  ...         0         0         3      2   \n",
      "\n",
      "   Dalc  Walc  absences  EPSGrade  DSGrade  finalGrade  \n",
      "0     1     1         2         0        0           0  \n",
      "1     1     1         1         0        0           0  \n",
      "2     2     3         3         0        0           0  \n",
      "3     1     1         0         2        1           2  \n",
      "4     1     2         1         0        0           0  \n",
      "\n",
      "[5 rows x 23 columns]\n"
     ]
    }
   ],
   "source": [
    "cat_cols = grades_df.select_dtypes(include=['object','category']).columns.tolist()\n",
    "\n",
    "\n",
    "for col in cat_cols:\n",
    "    grades_df[col] = grades_df[col].astype('category')\n",
    "\n",
    "for col in cat_cols:\n",
    "    grades_df[col] = grades_df[col].cat.codes\n",
    "\n",
    "print(grades_df.head())\n"
   ]
  }
 ],
 "metadata": {
  "kernelspec": {
   "display_name": "Python 3",
   "language": "python",
   "name": "python3"
  },
  "language_info": {
   "codemirror_mode": {
    "name": "ipython",
    "version": 3
   },
   "file_extension": ".py",
   "mimetype": "text/x-python",
   "name": "python",
   "nbconvert_exporter": "python",
   "pygments_lexer": "ipython3",
   "version": "3.12.6"
  }
 },
 "nbformat": 4,
 "nbformat_minor": 2
}
